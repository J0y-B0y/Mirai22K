{
  "nbformat": 4,
  "nbformat_minor": 0,
  "metadata": {
    "colab": {
      "provenance": []
    },
    "kernelspec": {
      "name": "python3",
      "display_name": "Python 3"
    },
    "language_info": {
      "name": "python"
    }
  },
  "cells": [
    {
      "cell_type": "code",
      "execution_count": 22,
      "metadata": {
        "id": "-aLLMufKMEzG"
      },
      "outputs": [],
      "source": [
        "# -----------------------------------------------------------\n",
        "# Mirai22K Gold Price Movement Prediction - Sample Usage Notebook\n",
        "# -----------------------------------------------------------\n",
        "# This notebook demonstrates how to load and use a pre-trained\n",
        "# binary classification model (gold_prob_model.pkl) to predict\n",
        "# the directional movement (increase/decrease) of gold spot prices.\n",
        "# The model is built using macroeconomic and market indicators\n",
        "# as input features, and outputs both class prediction and\n",
        "# probabilistic confidence.\n",
        "\n",
        "# Author: Divjot Singh\n",
        "# License: Apache-2.0 License\n",
        "# -----------------------------------------------------------\n",
        "\n",
        "# Core dependencies\n",
        "import joblib\n",
        "import pandas as pd\n",
        "import numpy as np\n",
        "import matplotlib.pyplot as plt\n",
        "import seaborn as sns\n",
        "\n",
        "# Optional: Evaluation tools (used in later cells if needed)\n",
        "from sklearn.metrics import classification_report, confusion_matrix, roc_curve, auc\n",
        "\n",
        "# Display settings for better clarity\n",
        "pd.set_option('display.precision', 4)\n",
        "sns.set(style=\"whitegrid\")\n"
      ]
    },
    {
      "cell_type": "code",
      "source": [
        "# -----------------------------------------------------------\n",
        "# Load Pre-trained Model and Inspect Expected Input Schema\n",
        "# -----------------------------------------------------------\n",
        "\n",
        "# Load the binary classification model from local file\n",
        "model = joblib.load(\"gold_prob_model.pkl\")\n",
        "\n",
        "# Extract expected input features used during model training\n",
        "expected_features = model.feature_names_in_\n",
        "\n",
        "# Display feature schema for transparency\n",
        "print(\"✅ Model loaded successfully.\")\n",
        "print(\"📌 Expected Features:\")\n",
        "for i, feat in enumerate(expected_features, 1):\n",
        "    print(f\"{i:>2}. {feat}\")\n"
      ],
      "metadata": {
        "colab": {
          "base_uri": "https://localhost:8080/"
        },
        "id": "QrfXYDUEQHlR",
        "outputId": "809b15fd-af3e-4f9c-e748-1ea12106d72c"
      },
      "execution_count": 23,
      "outputs": [
        {
          "output_type": "stream",
          "name": "stdout",
          "text": [
            "✅ Model loaded successfully.\n",
            "📌 Expected Features:\n",
            " 1. Spot_Price\n",
            " 2. DXY\n",
            " 3. TNX\n",
            " 4. ret_1\n",
            " 5. ret_5\n",
            " 6. dxy_ret\n",
            " 7. tnx_diff\n",
            " 8. dxy_lag1\n",
            " 9. tnx_lag1\n",
            "10. dxy_lag2\n",
            "11. tnx_lag2\n",
            "12. dxy_lag5\n",
            "13. tnx_lag5\n"
          ]
        }
      ]
    },
    {
      "cell_type": "code",
      "source": [
        "# -----------------------------------------------------------\n",
        "# Sample Inference: Generate Prediction Using Test Input\n",
        "# -----------------------------------------------------------\n",
        "\n",
        "# Create a sample test case (replace values as needed for real inference)\n",
        "sample_data = pd.DataFrame([[\n",
        "    1925.4,   # Spot_Price (USD/oz)\n",
        "    103.1,    # DXY (U.S. Dollar Index)\n",
        "    4.12,     # TNX (10Y Treasury Yield)\n",
        "    0.0012,   # ret_1 (1-day return)\n",
        "    0.0051,   # ret_5 (5-day return)\n",
        "    -0.0021,  # dxy_ret (DXY daily return)\n",
        "    0.01,     # tnx_diff (TNX daily difference)\n",
        "    102.9,    # dxy_lag1\n",
        "    4.08,     # tnx_lag1\n",
        "    103.0,    # dxy_lag2\n",
        "    4.02,     # tnx_lag2\n",
        "    103.3,    # dxy_lag5\n",
        "    3.97      # tnx_lag5\n",
        "]], columns=expected_features)\n",
        "\n",
        "# Run prediction\n",
        "prediction = model.predict(sample_data)[0]\n",
        "proba = model.predict_proba(sample_data)[0][1]\n",
        "\n",
        "# Display results\n",
        "print(\"📈 Predicted Class  :\", \"⬆️ Increase\" if prediction == 1 else \"⬇️ Decrease\")\n",
        "print(\"🎯 Confidence Score :\", round(proba * 100, 2), \"%\")\n"
      ],
      "metadata": {
        "colab": {
          "base_uri": "https://localhost:8080/"
        },
        "id": "R76-G6L6QOl-",
        "outputId": "a0bf01b7-6cd0-4d59-9f54-74fecb4b606c"
      },
      "execution_count": 24,
      "outputs": [
        {
          "output_type": "stream",
          "name": "stdout",
          "text": [
            "📈 Predicted Class  : ⬆️ Increase\n",
            "🎯 Confidence Score : 67.85 %\n"
          ]
        }
      ]
    },
    {
      "cell_type": "code",
      "source": [
        "# -----------------------------------------------------------\n",
        "# Visualize Prediction Confidence\n",
        "# -----------------------------------------------------------\n",
        "\n",
        "import matplotlib.pyplot as plt\n",
        "\n",
        "plt.figure(figsize=(8, 2))\n",
        "bar_color = '#2ecc71' if prediction == 1 else '#e74c3c'\n",
        "plt.barh(['Confidence'], [proba], color=bar_color, edgecolor='black', height=0.5)\n",
        "\n",
        "plt.xlim(0, 1)\n",
        "plt.xticks([0, 0.25, 0.5, 0.75, 1], fontsize=10)\n",
        "plt.yticks(fontsize=11)\n",
        "plt.title(\"Prediction Confidence\", fontsize=13, fontweight='bold')\n",
        "plt.xlabel(\"Probability of Price Increase\", fontsize=11)\n",
        "plt.grid(axis='x', linestyle='--', alpha=0.4)\n",
        "\n",
        "# Annotate confidence value\n",
        "plt.text(proba + 0.02, 0, f\"{round(proba * 100, 2)}%\", va='center', fontsize=11, fontweight='bold', color='black')\n",
        "\n",
        "plt.box(False)\n",
        "plt.tight_layout()\n",
        "plt.show()\n"
      ],
      "metadata": {
        "colab": {
          "base_uri": "https://localhost:8080/",
          "height": 201
        },
        "id": "TIz4NwcFQT_U",
        "outputId": "f53fa087-8305-481f-8b91-4b1da9a2864f"
      },
      "execution_count": 25,
      "outputs": [
        {
          "output_type": "display_data",
          "data": {
            "text/plain": [
              "<Figure size 800x200 with 1 Axes>"
            ],
            "image/png": "[encoded data removed]"
          },
          "metadata": {}
        }
      ]
    }
  ]
}